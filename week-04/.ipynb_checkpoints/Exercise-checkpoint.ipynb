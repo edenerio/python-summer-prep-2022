{
 "cells": [
  {
   "cell_type": "markdown",
   "metadata": {},
   "source": [
    "# List Overlap \n",
    "Write a program that returns a list that contains only the elements that are common between the lists (without duplicates). Make sure your program works on two lists of different sizes."
   ]
  },
  {
   "cell_type": "code",
   "execution_count": 2,
   "metadata": {},
   "outputs": [
    {
     "name": "stdout",
     "output_type": "stream",
     "text": [
      "[1, 2, 3, 5, 8, 13]\n"
     ]
    }
   ],
   "source": [
    "a = [1, 1, 2, 3, 5, 8, 13, 21, 34, 55, 89]\n",
    "b = [1, 2, 3, 4, 5, 6, 7, 8, 9, 10, 11, 12, 13]\n",
    "new_set=set()\n",
    "\n",
    "for i in a:\n",
    "    if i in b:\n",
    "        new_set.add(i)\n",
    "new_list=list(new_set)\n",
    "\n",
    "print(new_list)\n"
   ]
  },
  {
   "cell_type": "markdown",
   "metadata": {},
   "source": [
    "# Rock Paper Scissors\n",
    "\n",
    "Make a two-player Rock-Paper-Scissors game. (Hint: Ask for player plays (using input), compare them, print out a message of congratulations to the winner.)\n",
    "\n",
    "Remember the rules:\n",
    "\n",
    "* Rock beats scissors\n",
    "* Scissors beats paper\n",
    "* Paper beats rock"
   ]
  },
  {
   "cell_type": "code",
   "execution_count": 13,
   "metadata": {},
   "outputs": [
    {
     "name": "stdout",
     "output_type": "stream",
     "text": [
      "p1:Rock\n",
      "p2:Scissors\n",
      "Player 1 won!\n"
     ]
    }
   ],
   "source": [
    "def rps(p1,p2):\n",
    "    if p1==p2:\n",
    "        return \"Tie!\"\n",
    "    if p1 == \"Rock\":\n",
    "        if p2==\"Scissors\":\n",
    "            return \"Player 1 won!\"\n",
    "        else:\n",
    "            return \"Player 2 won!\"\n",
    "    if p1 == \"Scissors\":\n",
    "        if p2==\"Paper\":\n",
    "            return \"Player 1 won!\"\n",
    "        else:\n",
    "            return \"Player 2 won!\"\n",
    "    if p1==\"Paper\":\n",
    "        if p2==\"Rock\":\n",
    "            return \"Player 1 won!\"\n",
    "        else:\n",
    "            return \"Player 2 won!\"\n",
    "\n",
    "\n",
    "x,y=input(\"p1:\"),input(\"p2:\")\n",
    "\n",
    "print(rps(x,y))"
   ]
  },
  {
   "cell_type": "markdown",
   "metadata": {},
   "source": [
    "# Palindrome \n",
    "\n",
    "Ask the user for a string and print out whether this string is a palindrome or not. (A palindrome is a string that reads the same forwards and backwards.)"
   ]
  },
  {
   "cell_type": "code",
   "execution_count": 14,
   "metadata": {},
   "outputs": [
    {
     "name": "stdout",
     "output_type": "stream",
     "text": [
      "Input a string to check:dolod\n",
      "True\n",
      "False\n"
     ]
    }
   ],
   "source": [
    "def is_palindrome(x):\n",
    "    x.lower()\n",
    "    return x==x[::-1]\n",
    "\n",
    "x=input(\"Input a string to check:\")\n",
    "\n",
    "print(is_palindrome(x))\n",
    "print(is_palindrome(\"something\"))"
   ]
  },
  {
   "cell_type": "markdown",
   "metadata": {},
   "source": [
    "# Password Generator\n",
    "\n",
    "Write a password generator in Python. Be creative with how you generate passwords - strong passwords have a mix of lowercase letters, uppercase letters, numbers, and symbols. The passwords should be random.  Ask the user to input how long they want their password to be. "
   ]
  },
  {
   "cell_type": "code",
   "execution_count": 16,
   "metadata": {},
   "outputs": [
    {
     "name": "stdout",
     "output_type": "stream",
     "text": [
      "Enter length of pw: 16\n",
      "Aw#4vX?i17I2pY&*\n"
     ]
    }
   ],
   "source": [
    "import random\n",
    "\n",
    "chars = \"abcdefghijklmnopqrstuvwxyz01234567890ABCDEFGHIJKLMNOPQRSTUVWXYZ!@#$%^&*()?\"\n",
    "#to get good mix of characters\n",
    "lower_c=chars[0:26]\n",
    "upper_c=chars[37:63]\n",
    "nums=chars[26:36]\n",
    "special_chars=chars[63:len(chars)] #for some reason, character \"?\" is excluded when [63:-1]\n",
    "\n",
    "x=int(input(\"Enter length of pw: \"))\n",
    "\n",
    "loop_len=(x//4)\n",
    "\n",
    "pass_word=\"\"\n",
    "\n",
    "for i in range(loop_len):\n",
    "    pass_word+=random.choice(lower_c)\n",
    "    pass_word+=random.choice(upper_c)\n",
    "    pass_word+=random.choice(nums)\n",
    "    pass_word+=random.choice(special_chars)\n",
    "\n",
    "#in case x%4!=0\n",
    "while len(pass_word)!=x:\n",
    "    list_of_strings=[lower_c, upper_c, nums, special_chars]\n",
    "    the_chars=list_of_strings[random.randint(0,3)]\n",
    "    pass_word+=random.choice(the_chars)\n",
    "\n",
    "#shuffle the pw to get rid of the pattern from the first loop (lowercase, upper, num, special char)\n",
    "#and more randomized pw\n",
    "shuffle_list=list(pass_word)\n",
    "random.shuffle(shuffle_list)\n",
    "new_pw=''.join(shuffle_list)\n",
    "\n",
    "print(new_pw)\n"
   ]
  },
  {
   "cell_type": "markdown",
   "metadata": {},
   "source": [
    "# Divisors Solutions\n",
    "\n",
    "Create a program that asks the user for a number and then prints out a list of all the divisors of that number. (If you don’t know what a divisor is, it is a number that divides evenly into another number. For example, 13 is a divisor of 26 because 26 / 13 has no remainder.)"
   ]
  },
  {
   "cell_type": "code",
   "execution_count": 6,
   "metadata": {},
   "outputs": [
    {
     "name": "stdout",
     "output_type": "stream",
     "text": [
      "Enter an integer: 16\n",
      "[1, 2, 4, 8, 16]\n"
     ]
    }
   ],
   "source": [
    "x=int(input(\"Enter an integer: \"))\n",
    "ret_list=[]\n",
    "for i in range(1,x+1):\n",
    "    if x%i==0:\n",
    "        ret_list.append(i)\n",
    "        \n",
    "print(ret_list)"
   ]
  },
  {
   "cell_type": "markdown",
   "metadata": {},
   "source": [
    "# Missing Character\n",
    "Given a non-empty string and an int n, return a new string where the char at index n has been removed. The value of n will be a valid index of a char in the original string (i.e. n will be in the range 0..len(str)-1 inclusive).\n",
    "\n",
    "```\n",
    "missing_char('kitten', 1) → 'ktten'\n",
    "missing_char('kitten', 0) → 'itten'\n",
    "missing_char('kitten', 4) → 'kittn'\n",
    "\n",
    "```"
   ]
  },
  {
   "cell_type": "code",
   "execution_count": 12,
   "metadata": {},
   "outputs": [
    {
     "data": {
      "text/plain": [
       "'ktten'"
      ]
     },
     "execution_count": 12,
     "metadata": {},
     "output_type": "execute_result"
    }
   ],
   "source": [
    "def missing_char(word, n):\n",
    "    a_list=list(word)\n",
    "    a_list.pop(n)\n",
    "    return ''.join(a_list)\n",
    "\n",
    "missing_char('kitten', 1)"
   ]
  },
  {
   "cell_type": "markdown",
   "metadata": {},
   "source": [
    "# Centered Average\n",
    "\n",
    "Return the \"centered\" average of an array of ints, which we'll say is the mean average of the values, except ignoring the largest and smallest values in the array. If there are multiple copies of the smallest value, ignore just one copy, and likewise for the largest value.  You may assume that the array is length 3 or more and will never contain negative values. \n",
    "* Round your answer to the nearest whole number.\n",
    "\n",
    "```\n",
    "centered_average([1, 2, 3, 4, 100]) → 3\n",
    "centered_average([1, 1, 5, 5, 10, 8, 7]) → 5\n",
    "```"
   ]
  },
  {
   "cell_type": "code",
   "execution_count": 9,
   "metadata": {},
   "outputs": [
    {
     "name": "stdout",
     "output_type": "stream",
     "text": [
      "54\n"
     ]
    }
   ],
   "source": [
    "example_list = [100, 100, 50, 75, 50, 25, 25, 25]\n",
    "\n",
    "#can be done without making a copy of the list\n",
    "copy_list=example_list\n",
    "copy_list.remove(max(example_list))\n",
    "copy_list.remove(min(example_list))\n",
    "\n",
    "mean_ave=sum(copy_list)//len(copy_list)\n",
    "\n",
    "print(mean_ave)"
   ]
  },
  {
   "cell_type": "code",
   "execution_count": null,
   "metadata": {},
   "outputs": [],
   "source": []
  }
 ],
 "metadata": {
  "kernelspec": {
   "display_name": "Python 3 (ipykernel)",
   "language": "python",
   "name": "python3"
  },
  "language_info": {
   "codemirror_mode": {
    "name": "ipython",
    "version": 3
   },
   "file_extension": ".py",
   "mimetype": "text/x-python",
   "name": "python",
   "nbconvert_exporter": "python",
   "pygments_lexer": "ipython3",
   "version": "3.9.12"
  }
 },
 "nbformat": 4,
 "nbformat_minor": 4
}
